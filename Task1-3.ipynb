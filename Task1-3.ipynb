{
 "cells": [
  {
   "cell_type": "code",
   "execution_count": 1,
   "metadata": {},
   "outputs": [
    {
     "name": "stdout",
     "output_type": "stream",
     "text": [
      "2\n"
     ]
    }
   ],
   "source": [
    "string = input(\"Enter a word\")\n",
    "vowels = \"aeiouAEIOU\"\n",
    "\n",
    "count = 0 \n",
    "\n",
    "for letter in string:\n",
    "    if letter in vowels:\n",
    "        count = count + 1\n",
    "\n",
    "print(count)"
   ]
  }
 ],
 "metadata": {
  "kernelspec": {
   "display_name": "Python 3.10.7 64-bit",
   "language": "python",
   "name": "python3"
  },
  "language_info": {
   "codemirror_mode": {
    "name": "ipython",
    "version": 3
   },
   "file_extension": ".py",
   "mimetype": "text/x-python",
   "name": "python",
   "nbconvert_exporter": "python",
   "pygments_lexer": "ipython3",
   "version": "3.10.7"
  },
  "orig_nbformat": 4,
  "vscode": {
   "interpreter": {
    "hash": "9afaec6c43a334e1ec3184c1098d1dc1cacfc2adf66e06e3a3f0cb5d2a36c86a"
   }
  }
 },
 "nbformat": 4,
 "nbformat_minor": 2
}
